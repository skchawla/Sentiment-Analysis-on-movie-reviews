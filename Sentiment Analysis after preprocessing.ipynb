{
 "cells": [
  {
   "cell_type": "code",
   "execution_count": 196,
   "metadata": {},
   "outputs": [],
   "source": [
    "import pandas as pd\n",
    "import numpy as np\n",
    "import matplotlib.pyplot as plt\n",
    "import os\n",
    "import re"
   ]
  },
  {
   "cell_type": "code",
   "execution_count": 238,
   "metadata": {},
   "outputs": [
    {
     "data": {
      "text/plain": [
       "'C:\\\\Users\\\\sunilchawla\\\\Desktop\\\\ass2\\\\code'"
      ]
     },
     "execution_count": 238,
     "metadata": {},
     "output_type": "execute_result"
    }
   ],
   "source": [
    "os.getcwd()"
   ]
  },
  {
   "cell_type": "code",
   "execution_count": 239,
   "metadata": {},
   "outputs": [],
   "source": [
    "path = \"../data_clean/\""
   ]
  },
  {
   "cell_type": "code",
   "execution_count": 240,
   "metadata": {},
   "outputs": [],
   "source": [
    "df_train = pd.read_csv(path+\"pos_neg.csv\",sep = \",\")\n",
    "df_test = pd.read_csv(path+\"pos_neg_test.csv\",sep = \",\")"
   ]
  },
  {
   "cell_type": "code",
   "execution_count": 241,
   "metadata": {},
   "outputs": [],
   "source": [
    "df_train.drop(['Unnamed: 0'], axis = 1, inplace = True)\n",
    "df_test.drop(['Unnamed: 0'], axis = 1, inplace = True)"
   ]
  },
  {
   "cell_type": "code",
   "execution_count": 242,
   "metadata": {},
   "outputs": [
    {
     "data": {
      "text/html": [
       "<div>\n",
       "<style scoped>\n",
       "    .dataframe tbody tr th:only-of-type {\n",
       "        vertical-align: middle;\n",
       "    }\n",
       "\n",
       "    .dataframe tbody tr th {\n",
       "        vertical-align: top;\n",
       "    }\n",
       "\n",
       "    .dataframe thead th {\n",
       "        text-align: right;\n",
       "    }\n",
       "</style>\n",
       "<table border=\"1\" class=\"dataframe\">\n",
       "  <thead>\n",
       "    <tr style=\"text-align: right;\">\n",
       "      <th></th>\n",
       "      <th>movieID</th>\n",
       "      <th>review</th>\n",
       "      <th>rate</th>\n",
       "      <th>label</th>\n",
       "      <th>words</th>\n",
       "      <th>words_sent</th>\n",
       "    </tr>\n",
       "  </thead>\n",
       "  <tbody>\n",
       "    <tr>\n",
       "      <th>0</th>\n",
       "      <td>0</td>\n",
       "      <td>story of a man who has unnatural feelings for ...</td>\n",
       "      <td>3</td>\n",
       "      <td>0</td>\n",
       "      <td>['story', 'man', 'unnatural', 'feeling', 'pig'...</td>\n",
       "      <td>story man unnatural feeling pig start opening ...</td>\n",
       "    </tr>\n",
       "    <tr>\n",
       "      <th>1</th>\n",
       "      <td>10000</td>\n",
       "      <td>airport '77 starts as a brand new luxury 747 p...</td>\n",
       "      <td>4</td>\n",
       "      <td>0</td>\n",
       "      <td>['airport', \"'77\", 'start', 'brand', 'new', 'l...</td>\n",
       "      <td>airport '77 start brand new luxury 747 plane l...</td>\n",
       "    </tr>\n",
       "    <tr>\n",
       "      <th>2</th>\n",
       "      <td>10001</td>\n",
       "      <td>this film lacked something i could not put my ...</td>\n",
       "      <td>4</td>\n",
       "      <td>0</td>\n",
       "      <td>['film', 'lacked', 'something', 'could', 'not'...</td>\n",
       "      <td>film lacked something could not put finger fir...</td>\n",
       "    </tr>\n",
       "    <tr>\n",
       "      <th>3</th>\n",
       "      <td>10002</td>\n",
       "      <td>sorry everyone,,, i know this is supposed to b...</td>\n",
       "      <td>1</td>\n",
       "      <td>0</td>\n",
       "      <td>['sorry', 'everyone', 'know', 'supposed', '``'...</td>\n",
       "      <td>sorry everyone know supposed  art  film wow ha...</td>\n",
       "    </tr>\n",
       "    <tr>\n",
       "      <th>4</th>\n",
       "      <td>10003</td>\n",
       "      <td>when i was little my parents took me along to ...</td>\n",
       "      <td>1</td>\n",
       "      <td>0</td>\n",
       "      <td>['little', 'parent', 'took', 'along', 'theater...</td>\n",
       "      <td>little parent took along theater see interior ...</td>\n",
       "    </tr>\n",
       "  </tbody>\n",
       "</table>\n",
       "</div>"
      ],
      "text/plain": [
       "   movieID                                             review  rate  label  \\\n",
       "0        0  story of a man who has unnatural feelings for ...     3      0   \n",
       "1    10000  airport '77 starts as a brand new luxury 747 p...     4      0   \n",
       "2    10001  this film lacked something i could not put my ...     4      0   \n",
       "3    10002  sorry everyone,,, i know this is supposed to b...     1      0   \n",
       "4    10003  when i was little my parents took me along to ...     1      0   \n",
       "\n",
       "                                               words  \\\n",
       "0  ['story', 'man', 'unnatural', 'feeling', 'pig'...   \n",
       "1  ['airport', \"'77\", 'start', 'brand', 'new', 'l...   \n",
       "2  ['film', 'lacked', 'something', 'could', 'not'...   \n",
       "3  ['sorry', 'everyone', 'know', 'supposed', '``'...   \n",
       "4  ['little', 'parent', 'took', 'along', 'theater...   \n",
       "\n",
       "                                          words_sent  \n",
       "0  story man unnatural feeling pig start opening ...  \n",
       "1  airport '77 start brand new luxury 747 plane l...  \n",
       "2  film lacked something could not put finger fir...  \n",
       "3  sorry everyone know supposed  art  film wow ha...  \n",
       "4  little parent took along theater see interior ...  "
      ]
     },
     "execution_count": 242,
     "metadata": {},
     "output_type": "execute_result"
    }
   ],
   "source": [
    "df_train.head()"
   ]
  },
  {
   "cell_type": "code",
   "execution_count": 243,
   "metadata": {},
   "outputs": [
    {
     "data": {
      "text/html": [
       "<div>\n",
       "<style scoped>\n",
       "    .dataframe tbody tr th:only-of-type {\n",
       "        vertical-align: middle;\n",
       "    }\n",
       "\n",
       "    .dataframe tbody tr th {\n",
       "        vertical-align: top;\n",
       "    }\n",
       "\n",
       "    .dataframe thead th {\n",
       "        text-align: right;\n",
       "    }\n",
       "</style>\n",
       "<table border=\"1\" class=\"dataframe\">\n",
       "  <thead>\n",
       "    <tr style=\"text-align: right;\">\n",
       "      <th></th>\n",
       "      <th>movieID</th>\n",
       "      <th>review</th>\n",
       "      <th>rate</th>\n",
       "      <th>label</th>\n",
       "      <th>words</th>\n",
       "      <th>words_sent</th>\n",
       "    </tr>\n",
       "  </thead>\n",
       "  <tbody>\n",
       "    <tr>\n",
       "      <th>0</th>\n",
       "      <td>0</td>\n",
       "      <td>once again mr. costner has dragged out a movie...</td>\n",
       "      <td>2</td>\n",
       "      <td>0</td>\n",
       "      <td>['again', 'mr.', 'costner', 'dragged', 'movie'...</td>\n",
       "      <td>again mr. costner dragged movie far longer nec...</td>\n",
       "    </tr>\n",
       "    <tr>\n",
       "      <th>1</th>\n",
       "      <td>10000</td>\n",
       "      <td>this is an example of why the majority of acti...</td>\n",
       "      <td>4</td>\n",
       "      <td>0</td>\n",
       "      <td>['example', 'majority', 'action', 'film', 'gen...</td>\n",
       "      <td>example majority action film generic boring re...</td>\n",
       "    </tr>\n",
       "    <tr>\n",
       "      <th>2</th>\n",
       "      <td>10001</td>\n",
       "      <td>first of all i hate those moronic rappers, who...</td>\n",
       "      <td>1</td>\n",
       "      <td>0</td>\n",
       "      <td>['first', 'all', 'hate', 'moronic', 'rapper', ...</td>\n",
       "      <td>first all hate moronic rapper could'nt act gun...</td>\n",
       "    </tr>\n",
       "    <tr>\n",
       "      <th>3</th>\n",
       "      <td>10002</td>\n",
       "      <td>not even the beatles could write songs everyon...</td>\n",
       "      <td>3</td>\n",
       "      <td>0</td>\n",
       "      <td>['not', 'even', 'beatles', 'could', 'write', '...</td>\n",
       "      <td>not even beatles could write song everyone lik...</td>\n",
       "    </tr>\n",
       "    <tr>\n",
       "      <th>4</th>\n",
       "      <td>10003</td>\n",
       "      <td>brass pictures (movies is not a fitting word f...</td>\n",
       "      <td>3</td>\n",
       "      <td>0</td>\n",
       "      <td>['brass', 'picture', 'movie', 'not', 'fitting'...</td>\n",
       "      <td>brass picture movie not fitting word really so...</td>\n",
       "    </tr>\n",
       "  </tbody>\n",
       "</table>\n",
       "</div>"
      ],
      "text/plain": [
       "   movieID                                             review  rate  label  \\\n",
       "0        0  once again mr. costner has dragged out a movie...     2      0   \n",
       "1    10000  this is an example of why the majority of acti...     4      0   \n",
       "2    10001  first of all i hate those moronic rappers, who...     1      0   \n",
       "3    10002  not even the beatles could write songs everyon...     3      0   \n",
       "4    10003  brass pictures (movies is not a fitting word f...     3      0   \n",
       "\n",
       "                                               words  \\\n",
       "0  ['again', 'mr.', 'costner', 'dragged', 'movie'...   \n",
       "1  ['example', 'majority', 'action', 'film', 'gen...   \n",
       "2  ['first', 'all', 'hate', 'moronic', 'rapper', ...   \n",
       "3  ['not', 'even', 'beatles', 'could', 'write', '...   \n",
       "4  ['brass', 'picture', 'movie', 'not', 'fitting'...   \n",
       "\n",
       "                                          words_sent  \n",
       "0  again mr. costner dragged movie far longer nec...  \n",
       "1  example majority action film generic boring re...  \n",
       "2  first all hate moronic rapper could'nt act gun...  \n",
       "3  not even beatles could write song everyone lik...  \n",
       "4  brass picture movie not fitting word really so...  "
      ]
     },
     "execution_count": 243,
     "metadata": {},
     "output_type": "execute_result"
    }
   ],
   "source": [
    "df_test.head()"
   ]
  },
  {
   "cell_type": "markdown",
   "metadata": {},
   "source": [
    "# <font color=\"red\">preprocessed Data</font>"
   ]
  },
  {
   "cell_type": "code",
   "execution_count": 244,
   "metadata": {},
   "outputs": [],
   "source": [
    "X_train=df_train['words_sent'].str.lower()\n",
    "X_test=df_test['words_sent'].str.lower()\n",
    "Y_train = df_train['label']\n",
    "Y_test = df_test['label']"
   ]
  },
  {
   "cell_type": "markdown",
   "metadata": {},
   "source": [
    "# <font color=\"red\">Hyperparameter tuning with preprocessed Data</font>"
   ]
  },
  {
   "cell_type": "code",
   "execution_count": 231,
   "metadata": {},
   "outputs": [],
   "source": [
    "from sklearn.feature_extraction.text import TfidfVectorizer\n",
    "tfidf_vect = TfidfVectorizer(ngram_range=(1, 3),min_df=3,max_df=0.56)\n",
    "train_document = tfidf_vect.fit_transform(X_train)\n",
    "test_document = tfidf_vect.transform(X_test)"
   ]
  },
  {
   "cell_type": "code",
   "execution_count": 72,
   "metadata": {},
   "outputs": [],
   "source": [
    "from sklearn.model_selection import GridSearchCV"
   ]
  },
  {
   "cell_type": "code",
   "execution_count": 23,
   "metadata": {},
   "outputs": [
    {
     "data": {
      "text/plain": [
       "GridSearchCV(cv=3, error_score='raise',\n",
       "       estimator=MultinomialNB(alpha=1.0, class_prior=None, fit_prior=True),\n",
       "       fit_params=None, iid=True, n_jobs=1,\n",
       "       param_grid={'alpha': [0.01, 0.1, 1, 10]}, pre_dispatch='2*n_jobs',\n",
       "       refit=True, return_train_score='warn', scoring=None, verbose=0)"
      ]
     },
     "execution_count": 23,
     "metadata": {},
     "output_type": "execute_result"
    }
   ],
   "source": [
    "from sklearn.naive_bayes import MultinomialNB\n",
    "param_grid = {'alpha': [0.01, 0.1, 1, 10]}\n",
    "grid_search = GridSearchCV(MultinomialNB(),param_grid, cv = 3)\n",
    "grid_search.fit(train_document, Y_train)"
   ]
  },
  {
   "cell_type": "code",
   "execution_count": 234,
   "metadata": {},
   "outputs": [
    {
     "name": "stdout",
     "output_type": "stream",
     "text": [
      "Training set score: 0.97\n",
      "Test set score: 0.8755\n"
     ]
    }
   ],
   "source": [
    "from sklearn.naive_bayes import MultinomialNB\n",
    "clf = BernoulliNB().fit(train_document,Y_train)\n",
    "print(\"Training set score: {:.2f}\".format(clf.score(train_document, Y_train)))\n",
    "print(\"Test set score: {:.4f}\".format(clf.score(test_document, Y_test)))"
   ]
  },
  {
   "cell_type": "code",
   "execution_count": 263,
   "metadata": {},
   "outputs": [],
   "source": [
    "from sklearn.feature_extraction.text import TfidfVectorizer\n",
    "tfidf_vect = TfidfVectorizer(ngram_range=(1, 3),min_df=2,max_df=0.56)\n",
    "train_document = tfidf_vect.fit_transform(X_train)\n",
    "test_document = tfidf_vect.transform(X_test)"
   ]
  },
  {
   "cell_type": "code",
   "execution_count": 25,
   "metadata": {},
   "outputs": [
    {
     "data": {
      "text/plain": [
       "GridSearchCV(cv=3, error_score='raise',\n",
       "       estimator=LogisticRegression(C=1.0, class_weight=None, dual=False, fit_intercept=True,\n",
       "          intercept_scaling=1, max_iter=100, multi_class='ovr', n_jobs=1,\n",
       "          penalty='l2', random_state=None, solver='liblinear', tol=0.0001,\n",
       "          verbose=0, warm_start=False),\n",
       "       fit_params=None, iid=True, n_jobs=1,\n",
       "       param_grid={'C': [0.01, 0.1, 1, 10, 100]}, pre_dispatch='2*n_jobs',\n",
       "       refit=True, return_train_score='warn', scoring=None, verbose=0)"
      ]
     },
     "execution_count": 25,
     "metadata": {},
     "output_type": "execute_result"
    }
   ],
   "source": [
    "param_grid = {'C': [0.01, 0.1, 1, 10,100]}\n",
    "from sklearn.linear_model import LogisticRegression\n",
    "grid_search = GridSearchCV(LogisticRegression(),param_grid, cv = 3)\n",
    "grid_search.fit(train_document, Y_train)"
   ]
  },
  {
   "cell_type": "code",
   "execution_count": 268,
   "metadata": {},
   "outputs": [
    {
     "name": "stdout",
     "output_type": "stream",
     "text": [
      "Training set score: 1.00\n",
      "Test set score: 0.8962\n"
     ]
    }
   ],
   "source": [
    "from sklearn.linear_model import LogisticRegression\n",
    "clf = LogisticRegression(C=11, penalty='l2').fit(train_document,Y_train)\n",
    "print(\"Training set score: {:.2f}\".format(clf.score(train_document, Y_train)))\n",
    "print(\"Test set score: {:.4f}\".format(clf.score(test_document, Y_test)))"
   ]
  },
  {
   "cell_type": "code",
   "execution_count": 233,
   "metadata": {},
   "outputs": [
    {
     "name": "stderr",
     "output_type": "stream",
     "text": [
      "C:\\Users\\sunilchawla\\AppData\\Local\\Continuum\\anaconda3\\lib\\site-packages\\sklearn\\linear_model\\stochastic_gradient.py:128: FutureWarning: max_iter and tol parameters have been added in <class 'sklearn.linear_model.stochastic_gradient.SGDClassifier'> in 0.19. If both are left unset, they default to max_iter=5 and tol=None. If tol is not None, max_iter defaults to max_iter=1000. From 0.21, default max_iter will be 1000, and default tol will be 1e-3.\n",
      "  \"and default tol will be 1e-3.\" % type(self), FutureWarning)\n"
     ]
    },
    {
     "name": "stdout",
     "output_type": "stream",
     "text": [
      "Training set score: 0.96\n",
      "Test set score: 0.8956\n"
     ]
    }
   ],
   "source": [
    "from sklearn.linear_model import SGDClassifier\n",
    "clf = SGDClassifier().fit(train_document,Y_train)\n",
    "print(\"Training set score: {:.2f}\".format(clf.score(train_document, Y_train)))\n",
    "print(\"Test set score: {:.4f}\".format(clf.score(test_document, Y_test)))"
   ]
  },
  {
   "cell_type": "code",
   "execution_count": null,
   "metadata": {},
   "outputs": [],
   "source": [
    "from sklearn.feature_extraction.text import TfidfVectorizer\n",
    "tfidf_vect = TfidfVectorizer(ngram_range=(1, 3),min_df=3,max_df=0.56)\n",
    "train_document = tfidf_vect.fit_transform(X_train)\n",
    "test_document = tfidf_vect.transform(X_test)"
   ]
  },
  {
   "cell_type": "code",
   "execution_count": 232,
   "metadata": {},
   "outputs": [
    {
     "name": "stdout",
     "output_type": "stream",
     "text": [
      "Training set score: 0.99\n",
      "Test set score: 0.8973\n"
     ]
    }
   ],
   "source": [
    "from sklearn.svm import LinearSVC\n",
    "clf = LinearSVC(C=0.3).fit(train_document,Y_train)\n",
    "print(\"Training set score: {:.2f}\".format(clf.score(train_document, Y_train)))\n",
    "print(\"Test set score: {:.4f}\".format(clf.score(test_document, Y_test)))"
   ]
  },
  {
   "cell_type": "code",
   "execution_count": null,
   "metadata": {},
   "outputs": [],
   "source": []
  },
  {
   "cell_type": "markdown",
   "metadata": {},
   "source": [
    "# <br><font color=\"blue\">highest accuracy = 89.73% with hyperparameter tuning in TF-IDF and LinearSVC(after data preprocessing) </font></br>"
   ]
  },
  {
   "cell_type": "code",
   "execution_count": null,
   "metadata": {},
   "outputs": [],
   "source": []
  }
 ],
 "metadata": {
  "kernelspec": {
   "display_name": "Python 3",
   "language": "python",
   "name": "python3"
  },
  "language_info": {
   "codemirror_mode": {
    "name": "ipython",
    "version": 3
   },
   "file_extension": ".py",
   "mimetype": "text/x-python",
   "name": "python",
   "nbconvert_exporter": "python",
   "pygments_lexer": "ipython3",
   "version": "3.6.4"
  }
 },
 "nbformat": 4,
 "nbformat_minor": 2
}
