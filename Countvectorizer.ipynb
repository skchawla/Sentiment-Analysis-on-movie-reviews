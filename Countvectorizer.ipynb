{
 "cells": [
  {
   "cell_type": "code",
   "execution_count": 1,
   "metadata": {},
   "outputs": [],
   "source": [
    "import pandas as pd\n",
    "import numpy as np\n",
    "import matplotlib.pyplot as plt\n",
    "import os\n",
    "from contraction import fix\n",
    "import string, unicodedata\n",
    "import nltk\n",
    "from bs4 import BeautifulSoup"
   ]
  },
  {
   "cell_type": "code",
   "execution_count": 2,
   "metadata": {},
   "outputs": [
    {
     "data": {
      "text/plain": [
       "'C:\\\\Users\\\\sunilchawla\\\\Desktop\\\\ass2\\\\code'"
      ]
     },
     "execution_count": 2,
     "metadata": {},
     "output_type": "execute_result"
    }
   ],
   "source": [
    "os.getcwd()"
   ]
  },
  {
   "cell_type": "code",
   "execution_count": 3,
   "metadata": {},
   "outputs": [],
   "source": [
    "path = \"../data_clean/\""
   ]
  },
  {
   "cell_type": "code",
   "execution_count": 4,
   "metadata": {},
   "outputs": [],
   "source": [
    "df_train = pd.read_csv(path+\"pos_neg.csv\",sep = \",\")\n",
    "df_test = pd.read_csv(path+\"pos_neg_test.csv\",sep = \",\")"
   ]
  },
  {
   "cell_type": "code",
   "execution_count": 5,
   "metadata": {},
   "outputs": [],
   "source": [
    "df_train.drop(['Unnamed: 0'], axis = 1, inplace = True)\n",
    "df_test.drop(['Unnamed: 0'], axis = 1, inplace = True)"
   ]
  },
  {
   "cell_type": "code",
   "execution_count": 6,
   "metadata": {
    "scrolled": true
   },
   "outputs": [
    {
     "data": {
      "text/html": [
       "<div>\n",
       "<style scoped>\n",
       "    .dataframe tbody tr th:only-of-type {\n",
       "        vertical-align: middle;\n",
       "    }\n",
       "\n",
       "    .dataframe tbody tr th {\n",
       "        vertical-align: top;\n",
       "    }\n",
       "\n",
       "    .dataframe thead th {\n",
       "        text-align: right;\n",
       "    }\n",
       "</style>\n",
       "<table border=\"1\" class=\"dataframe\">\n",
       "  <thead>\n",
       "    <tr style=\"text-align: right;\">\n",
       "      <th></th>\n",
       "      <th>movieID</th>\n",
       "      <th>review</th>\n",
       "      <th>rate</th>\n",
       "      <th>label</th>\n",
       "      <th>words</th>\n",
       "      <th>words_sent</th>\n",
       "    </tr>\n",
       "  </thead>\n",
       "  <tbody>\n",
       "    <tr>\n",
       "      <th>0</th>\n",
       "      <td>0</td>\n",
       "      <td>story of a man who has unnatural feelings for ...</td>\n",
       "      <td>3</td>\n",
       "      <td>0</td>\n",
       "      <td>['story', 'man', 'unnatural', 'feeling', 'pig'...</td>\n",
       "      <td>story man unnatural feeling pig start opening ...</td>\n",
       "    </tr>\n",
       "    <tr>\n",
       "      <th>1</th>\n",
       "      <td>10000</td>\n",
       "      <td>airport '77 starts as a brand new luxury 747 p...</td>\n",
       "      <td>4</td>\n",
       "      <td>0</td>\n",
       "      <td>['airport', \"'77\", 'start', 'brand', 'new', 'l...</td>\n",
       "      <td>airport '77 start brand new luxury 747 plane l...</td>\n",
       "    </tr>\n",
       "    <tr>\n",
       "      <th>2</th>\n",
       "      <td>10001</td>\n",
       "      <td>this film lacked something i could not put my ...</td>\n",
       "      <td>4</td>\n",
       "      <td>0</td>\n",
       "      <td>['film', 'lacked', 'something', 'could', 'not'...</td>\n",
       "      <td>film lacked something could not put finger fir...</td>\n",
       "    </tr>\n",
       "    <tr>\n",
       "      <th>3</th>\n",
       "      <td>10002</td>\n",
       "      <td>sorry everyone,,, i know this is supposed to b...</td>\n",
       "      <td>1</td>\n",
       "      <td>0</td>\n",
       "      <td>['sorry', 'everyone', 'know', 'supposed', '``'...</td>\n",
       "      <td>sorry everyone know supposed  art  film wow ha...</td>\n",
       "    </tr>\n",
       "    <tr>\n",
       "      <th>4</th>\n",
       "      <td>10003</td>\n",
       "      <td>when i was little my parents took me along to ...</td>\n",
       "      <td>1</td>\n",
       "      <td>0</td>\n",
       "      <td>['little', 'parent', 'took', 'along', 'theater...</td>\n",
       "      <td>little parent took along theater see interior ...</td>\n",
       "    </tr>\n",
       "  </tbody>\n",
       "</table>\n",
       "</div>"
      ],
      "text/plain": [
       "   movieID                                             review  rate  label  \\\n",
       "0        0  story of a man who has unnatural feelings for ...     3      0   \n",
       "1    10000  airport '77 starts as a brand new luxury 747 p...     4      0   \n",
       "2    10001  this film lacked something i could not put my ...     4      0   \n",
       "3    10002  sorry everyone,,, i know this is supposed to b...     1      0   \n",
       "4    10003  when i was little my parents took me along to ...     1      0   \n",
       "\n",
       "                                               words  \\\n",
       "0  ['story', 'man', 'unnatural', 'feeling', 'pig'...   \n",
       "1  ['airport', \"'77\", 'start', 'brand', 'new', 'l...   \n",
       "2  ['film', 'lacked', 'something', 'could', 'not'...   \n",
       "3  ['sorry', 'everyone', 'know', 'supposed', '``'...   \n",
       "4  ['little', 'parent', 'took', 'along', 'theater...   \n",
       "\n",
       "                                          words_sent  \n",
       "0  story man unnatural feeling pig start opening ...  \n",
       "1  airport '77 start brand new luxury 747 plane l...  \n",
       "2  film lacked something could not put finger fir...  \n",
       "3  sorry everyone know supposed  art  film wow ha...  \n",
       "4  little parent took along theater see interior ...  "
      ]
     },
     "execution_count": 6,
     "metadata": {},
     "output_type": "execute_result"
    }
   ],
   "source": [
    "df_train.head()"
   ]
  },
  {
   "cell_type": "code",
   "execution_count": 7,
   "metadata": {},
   "outputs": [
    {
     "data": {
      "text/html": [
       "<div>\n",
       "<style scoped>\n",
       "    .dataframe tbody tr th:only-of-type {\n",
       "        vertical-align: middle;\n",
       "    }\n",
       "\n",
       "    .dataframe tbody tr th {\n",
       "        vertical-align: top;\n",
       "    }\n",
       "\n",
       "    .dataframe thead th {\n",
       "        text-align: right;\n",
       "    }\n",
       "</style>\n",
       "<table border=\"1\" class=\"dataframe\">\n",
       "  <thead>\n",
       "    <tr style=\"text-align: right;\">\n",
       "      <th></th>\n",
       "      <th>movieID</th>\n",
       "      <th>review</th>\n",
       "      <th>rate</th>\n",
       "      <th>label</th>\n",
       "      <th>words</th>\n",
       "      <th>words_sent</th>\n",
       "    </tr>\n",
       "  </thead>\n",
       "  <tbody>\n",
       "    <tr>\n",
       "      <th>0</th>\n",
       "      <td>0</td>\n",
       "      <td>once again mr. costner has dragged out a movie...</td>\n",
       "      <td>2</td>\n",
       "      <td>0</td>\n",
       "      <td>['again', 'mr.', 'costner', 'dragged', 'movie'...</td>\n",
       "      <td>again mr. costner dragged movie far longer nec...</td>\n",
       "    </tr>\n",
       "    <tr>\n",
       "      <th>1</th>\n",
       "      <td>10000</td>\n",
       "      <td>this is an example of why the majority of acti...</td>\n",
       "      <td>4</td>\n",
       "      <td>0</td>\n",
       "      <td>['example', 'majority', 'action', 'film', 'gen...</td>\n",
       "      <td>example majority action film generic boring re...</td>\n",
       "    </tr>\n",
       "    <tr>\n",
       "      <th>2</th>\n",
       "      <td>10001</td>\n",
       "      <td>first of all i hate those moronic rappers, who...</td>\n",
       "      <td>1</td>\n",
       "      <td>0</td>\n",
       "      <td>['first', 'all', 'hate', 'moronic', 'rapper', ...</td>\n",
       "      <td>first all hate moronic rapper could'nt act gun...</td>\n",
       "    </tr>\n",
       "    <tr>\n",
       "      <th>3</th>\n",
       "      <td>10002</td>\n",
       "      <td>not even the beatles could write songs everyon...</td>\n",
       "      <td>3</td>\n",
       "      <td>0</td>\n",
       "      <td>['not', 'even', 'beatles', 'could', 'write', '...</td>\n",
       "      <td>not even beatles could write song everyone lik...</td>\n",
       "    </tr>\n",
       "    <tr>\n",
       "      <th>4</th>\n",
       "      <td>10003</td>\n",
       "      <td>brass pictures (movies is not a fitting word f...</td>\n",
       "      <td>3</td>\n",
       "      <td>0</td>\n",
       "      <td>['brass', 'picture', 'movie', 'not', 'fitting'...</td>\n",
       "      <td>brass picture movie not fitting word really so...</td>\n",
       "    </tr>\n",
       "  </tbody>\n",
       "</table>\n",
       "</div>"
      ],
      "text/plain": [
       "   movieID                                             review  rate  label  \\\n",
       "0        0  once again mr. costner has dragged out a movie...     2      0   \n",
       "1    10000  this is an example of why the majority of acti...     4      0   \n",
       "2    10001  first of all i hate those moronic rappers, who...     1      0   \n",
       "3    10002  not even the beatles could write songs everyon...     3      0   \n",
       "4    10003  brass pictures (movies is not a fitting word f...     3      0   \n",
       "\n",
       "                                               words  \\\n",
       "0  ['again', 'mr.', 'costner', 'dragged', 'movie'...   \n",
       "1  ['example', 'majority', 'action', 'film', 'gen...   \n",
       "2  ['first', 'all', 'hate', 'moronic', 'rapper', ...   \n",
       "3  ['not', 'even', 'beatles', 'could', 'write', '...   \n",
       "4  ['brass', 'picture', 'movie', 'not', 'fitting'...   \n",
       "\n",
       "                                          words_sent  \n",
       "0  again mr. costner dragged movie far longer nec...  \n",
       "1  example majority action film generic boring re...  \n",
       "2  first all hate moronic rapper could'nt act gun...  \n",
       "3  not even beatles could write song everyone lik...  \n",
       "4  brass picture movie not fitting word really so...  "
      ]
     },
     "execution_count": 7,
     "metadata": {},
     "output_type": "execute_result"
    }
   ],
   "source": [
    "df_test.head()"
   ]
  },
  {
   "cell_type": "markdown",
   "metadata": {},
   "source": [
    "# Deep Learning"
   ]
  },
  {
   "cell_type": "code",
   "execution_count": 8,
   "metadata": {},
   "outputs": [],
   "source": [
    "X_train = df_train['words_sent'].str.lower()\n",
    "X_test = df_test['words_sent'].str.lower()\n",
    "Y_train = df_train['label']\n",
    "Y_test = df_test['label']"
   ]
  },
  {
   "cell_type": "code",
   "execution_count": 26,
   "metadata": {},
   "outputs": [],
   "source": [
    "from sklearn.feature_extraction.text import TfidfVectorizer\n",
    "tfidf_vect = TfidfVectorizer(ngram_range=(1, 3),min_df=3,max_df=0.9)\n",
    "train_document = tfidf_vect.fit_transform(X_train)\n",
    "test_document = tfidf_vect.transform(X_test)"
   ]
  },
  {
   "cell_type": "markdown",
   "metadata": {},
   "source": [
    "# Multi-layer Perceptron"
   ]
  },
  {
   "cell_type": "code",
   "execution_count": 27,
   "metadata": {},
   "outputs": [],
   "source": [
    "from sklearn.neural_network import MLPClassifier"
   ]
  },
  {
   "cell_type": "code",
   "execution_count": 32,
   "metadata": {},
   "outputs": [
    {
     "data": {
      "text/plain": [
       "MLPClassifier(activation='relu', alpha=0.0001, batch_size='auto', beta_1=0.9,\n",
       "       beta_2=0.999, early_stopping=False, epsilon=1e-08,\n",
       "       hidden_layer_sizes=[20], learning_rate='constant',\n",
       "       learning_rate_init=0.001, max_iter=200, momentum=0.9,\n",
       "       nesterovs_momentum=True, power_t=0.5, random_state=0, shuffle=True,\n",
       "       solver='adam', tol=0.0001, validation_fraction=0.1, verbose=False,\n",
       "       warm_start=False)"
      ]
     },
     "execution_count": 32,
     "metadata": {},
     "output_type": "execute_result"
    }
   ],
   "source": [
    "mlp = MLPClassifier(solver='adam',alpha=0.0001, random_state=0, hidden_layer_sizes=[20])\n",
    "mlp.fit(train_document, Y_train)\n",
    "#mlp = MLPClassifier(algorithm='l-bfgs', random_state=0,hidden_layer_sizes=[10]).fit(X_train, Y_train)"
   ]
  },
  {
   "cell_type": "code",
   "execution_count": 33,
   "metadata": {},
   "outputs": [
    {
     "name": "stdout",
     "output_type": "stream",
     "text": [
      "Training set score: 1.00\n",
      "Test set score: 0.8957\n"
     ]
    }
   ],
   "source": [
    "print(\"Training set score: {:.2f}\".format(mlp.score(train_document, Y_train)))\n",
    "print(\"Test set score: {:.4f}\".format(mlp.score(test_document, Y_test)))"
   ]
  },
  {
   "cell_type": "code",
   "execution_count": null,
   "metadata": {},
   "outputs": [],
   "source": []
  },
  {
   "cell_type": "code",
   "execution_count": null,
   "metadata": {},
   "outputs": [],
   "source": []
  },
  {
   "cell_type": "code",
   "execution_count": null,
   "metadata": {},
   "outputs": [],
   "source": []
  },
  {
   "cell_type": "code",
   "execution_count": null,
   "metadata": {},
   "outputs": [],
   "source": []
  },
  {
   "cell_type": "code",
   "execution_count": null,
   "metadata": {},
   "outputs": [],
   "source": []
  },
  {
   "cell_type": "code",
   "execution_count": null,
   "metadata": {},
   "outputs": [],
   "source": []
  },
  {
   "cell_type": "code",
   "execution_count": null,
   "metadata": {},
   "outputs": [],
   "source": []
  },
  {
   "cell_type": "code",
   "execution_count": null,
   "metadata": {},
   "outputs": [],
   "source": []
  },
  {
   "cell_type": "code",
   "execution_count": 48,
   "metadata": {},
   "outputs": [],
   "source": [
    "import re\n",
    "REPLACE_NO_SPACE = re.compile(\"(\\.)|(\\;)|(\\:)|(\\!)|(\\')|(\\?)|(\\,)|(\\\")|(\\()|(\\))|(\\[)|(\\])\")\n",
    "REPLACE_WITH_SPACE = re.compile(\"(<br\\s*/><br\\s*/>)|(\\-)|(\\/)\")\n",
    "\n",
    "def preprocess_reviews(reviews):\n",
    "    reviews = [REPLACE_NO_SPACE.sub(\"\", line.lower()) for line in reviews]\n",
    "    reviews = [REPLACE_WITH_SPACE.sub(\" \", line) for line in reviews]\n",
    "    return reviews"
   ]
  },
  {
   "cell_type": "code",
   "execution_count": 49,
   "metadata": {},
   "outputs": [],
   "source": [
    "dsd = preprocess_reviews(df_train['words_sent'])"
   ]
  },
  {
   "cell_type": "code",
   "execution_count": 50,
   "metadata": {},
   "outputs": [],
   "source": [
    "dsdt = preprocess_reviews(df_test['words_sent'])"
   ]
  },
  {
   "cell_type": "code",
   "execution_count": 51,
   "metadata": {},
   "outputs": [],
   "source": [
    "from string import digits\n",
    "garbage = digits\n",
    "table = str.maketrans(\"\",\"\",garbage)\n",
    "\n",
    "train_data_reviews = list(map(lambda x:x.translate(table),dsd))\n",
    "test_data_reviews = list(map(lambda x:x.translate(table),dsdt))"
   ]
  },
  {
   "cell_type": "code",
   "execution_count": null,
   "metadata": {},
   "outputs": [],
   "source": [
    "from sklearn.feature_extraction.text import TfidfVectorizer\n",
    "tfidf_vect = TfidfVectorizer(ngram_range=(1, 3),min_df=3,max_df=0.9)\n",
    "train_document = tfidf_vect.fit_transform(train_data_reviews)\n",
    "test_document = tfidf_vect.transform(test_data_reviews)"
   ]
  },
  {
   "cell_type": "code",
   "execution_count": 77,
   "metadata": {},
   "outputs": [
    {
     "name": "stdout",
     "output_type": "stream",
     "text": [
      "Training set score: 1.00\n",
      "Test set score: 0.8935\n"
     ]
    }
   ],
   "source": [
    "from sklearn.linear_model import LogisticRegression\n",
    "clf = LogisticRegression(C=9, penalty='l2').fit(train_document,Y_train)\n",
    "print(\"Training set score: {:.2f}\".format(clf.score(train_document, Y_train)))\n",
    "print(\"Test set score: {:.4f}\".format(clf.score(test_document, Y_test)))"
   ]
  },
  {
   "cell_type": "code",
   "execution_count": 34,
   "metadata": {},
   "outputs": [
    {
     "ename": "NameError",
     "evalue": "name 'array' is not defined",
     "output_type": "error",
     "traceback": [
      "\u001b[1;31m---------------------------------------------------------------------------\u001b[0m",
      "\u001b[1;31mNameError\u001b[0m                                 Traceback (most recent call last)",
      "\u001b[1;32m<ipython-input-34-918afdc621ee>\u001b[0m in \u001b[0;36m<module>\u001b[1;34m()\u001b[0m\n\u001b[0;32m     10\u001b[0m \t\t'Could have done better.']\n\u001b[0;32m     11\u001b[0m \u001b[1;31m# define class labels\u001b[0m\u001b[1;33m\u001b[0m\u001b[1;33m\u001b[0m\u001b[0m\n\u001b[1;32m---> 12\u001b[1;33m \u001b[0mlabels\u001b[0m \u001b[1;33m=\u001b[0m \u001b[0marray\u001b[0m\u001b[1;33m(\u001b[0m\u001b[1;33m[\u001b[0m\u001b[1;36m1\u001b[0m\u001b[1;33m,\u001b[0m\u001b[1;36m1\u001b[0m\u001b[1;33m,\u001b[0m\u001b[1;36m1\u001b[0m\u001b[1;33m,\u001b[0m\u001b[1;36m1\u001b[0m\u001b[1;33m,\u001b[0m\u001b[1;36m1\u001b[0m\u001b[1;33m,\u001b[0m\u001b[1;36m0\u001b[0m\u001b[1;33m,\u001b[0m\u001b[1;36m0\u001b[0m\u001b[1;33m,\u001b[0m\u001b[1;36m0\u001b[0m\u001b[1;33m,\u001b[0m\u001b[1;36m0\u001b[0m\u001b[1;33m,\u001b[0m\u001b[1;36m0\u001b[0m\u001b[1;33m]\u001b[0m\u001b[1;33m)\u001b[0m\u001b[1;33m\u001b[0m\u001b[0m\n\u001b[0m",
      "\u001b[1;31mNameError\u001b[0m: name 'array' is not defined"
     ]
    }
   ],
   "source": [
    "docs = ['Well done!',\n",
    "\t\t'Good work',\n",
    "\t\t'Great effort',\n",
    "\t\t'nice work',\n",
    "\t\t'Excellent!',\n",
    "\t\t'Weak',\n",
    "\t\t'Poor effort!',\n",
    "\t\t'not good',\n",
    "\t\t'poor work',\n",
    "\t\t'Could have done better.']\n",
    "# define class labels\n",
    "labels = array([1,1,1,1,1,0,0,0,0,0])"
   ]
  },
  {
   "cell_type": "code",
   "execution_count": null,
   "metadata": {},
   "outputs": [],
   "source": []
  }
 ],
 "metadata": {
  "kernelspec": {
   "display_name": "Python 3",
   "language": "python",
   "name": "python3"
  },
  "language_info": {
   "codemirror_mode": {
    "name": "ipython",
    "version": 3
   },
   "file_extension": ".py",
   "mimetype": "text/x-python",
   "name": "python",
   "nbconvert_exporter": "python",
   "pygments_lexer": "ipython3",
   "version": "3.6.4"
  }
 },
 "nbformat": 4,
 "nbformat_minor": 2
}
