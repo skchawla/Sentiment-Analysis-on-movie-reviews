{
 "cells": [
  {
   "cell_type": "code",
   "execution_count": 1,
   "metadata": {},
   "outputs": [],
   "source": [
    "import pandas as pd\n",
    "import numpy as np\n",
    "import os\n",
    "import time"
   ]
  },
  {
   "cell_type": "code",
   "execution_count": 26,
   "metadata": {},
   "outputs": [
    {
     "name": "stdout",
     "output_type": "stream",
     "text": [
      "163.4515380859375\n"
     ]
    }
   ],
   "source": [
    "\n",
    "dirt = ['neg','pos']\n",
    "path = \"../data/aclImdb/train/\"\n",
    "df = pd.DataFrame(columns=['movieID','review','rate','label'])\n",
    "\n",
    "t = time.time()\n",
    "for j in range(2):\n",
    "    files = os.listdir(path+dirt[j])\n",
    "    for index,file in enumerate(files):\n",
    "        files_txt  = path+dirt[j]+'/'+file\n",
    "        rate = file.split('_')[1].split('.')[0]\n",
    "        movieID = file.split('_')[0]\n",
    "        with open(files_txt,encoding='utf8') as f:\n",
    "            txt = f.read()\n",
    "        if(j==0):\n",
    "            df.loc[index] = [movieID,txt,rate,j]\n",
    "        else:\n",
    "            df.loc[index + 12500] = [movieID,txt,rate,j]\n",
    "df.to_csv(\"../data_df/pos_neg.csv\")\n",
    "elapsed = time.time() - t\n",
    "print(elapsed)"
   ]
  },
  {
   "cell_type": "code",
   "execution_count": 32,
   "metadata": {
    "scrolled": true
   },
   "outputs": [
    {
     "data": {
      "text/html": [
       "<div>\n",
       "<style scoped>\n",
       "    .dataframe tbody tr th:only-of-type {\n",
       "        vertical-align: middle;\n",
       "    }\n",
       "\n",
       "    .dataframe tbody tr th {\n",
       "        vertical-align: top;\n",
       "    }\n",
       "\n",
       "    .dataframe thead th {\n",
       "        text-align: right;\n",
       "    }\n",
       "</style>\n",
       "<table border=\"1\" class=\"dataframe\">\n",
       "  <thead>\n",
       "    <tr style=\"text-align: right;\">\n",
       "      <th></th>\n",
       "      <th>movieID</th>\n",
       "      <th>review</th>\n",
       "      <th>rate</th>\n",
       "      <th>label</th>\n",
       "    </tr>\n",
       "  </thead>\n",
       "  <tbody>\n",
       "    <tr>\n",
       "      <th>0</th>\n",
       "      <td>0</td>\n",
       "      <td>Story of a man who has unnatural feelings for ...</td>\n",
       "      <td>3</td>\n",
       "      <td>0</td>\n",
       "    </tr>\n",
       "    <tr>\n",
       "      <th>1</th>\n",
       "      <td>10000</td>\n",
       "      <td>Airport '77 starts as a brand new luxury 747 p...</td>\n",
       "      <td>4</td>\n",
       "      <td>0</td>\n",
       "    </tr>\n",
       "    <tr>\n",
       "      <th>2</th>\n",
       "      <td>10001</td>\n",
       "      <td>This film lacked something I couldn't put my f...</td>\n",
       "      <td>4</td>\n",
       "      <td>0</td>\n",
       "    </tr>\n",
       "    <tr>\n",
       "      <th>3</th>\n",
       "      <td>10002</td>\n",
       "      <td>Sorry everyone,,, I know this is supposed to b...</td>\n",
       "      <td>1</td>\n",
       "      <td>0</td>\n",
       "    </tr>\n",
       "    <tr>\n",
       "      <th>4</th>\n",
       "      <td>10003</td>\n",
       "      <td>When I was little my parents took me along to ...</td>\n",
       "      <td>1</td>\n",
       "      <td>0</td>\n",
       "    </tr>\n",
       "  </tbody>\n",
       "</table>\n",
       "</div>"
      ],
      "text/plain": [
       "  movieID                                             review rate label\n",
       "0       0  Story of a man who has unnatural feelings for ...    3     0\n",
       "1   10000  Airport '77 starts as a brand new luxury 747 p...    4     0\n",
       "2   10001  This film lacked something I couldn't put my f...    4     0\n",
       "3   10002  Sorry everyone,,, I know this is supposed to b...    1     0\n",
       "4   10003  When I was little my parents took me along to ...    1     0"
      ]
     },
     "execution_count": 32,
     "metadata": {},
     "output_type": "execute_result"
    }
   ],
   "source": [
    "df.head()"
   ]
  },
  {
   "cell_type": "code",
   "execution_count": 14,
   "metadata": {
    "scrolled": true
   },
   "outputs": [
    {
     "name": "stdout",
     "output_type": "stream",
     "text": [
      "976.4124648571014\n"
     ]
    }
   ],
   "source": [
    "path = \"../data/aclImdb/train/unsup\"\n",
    "df = pd.DataFrame(columns=['movieID','review','rate'])\n",
    "\n",
    "t = time.time()\n",
    "files = os.listdir(path)\n",
    "for index,file in enumerate(files):\n",
    "    files_txt  = path+'/'+file\n",
    "    rate = file.split('_')[1].split('.')[0]\n",
    "    movieID = file.split('_')[0]\n",
    "    with open(files_txt,encoding='utf8') as f:\n",
    "        txt = f.read()\n",
    "    df.loc[index] = [movieID,txt,rate]\n",
    "df.to_csv(\"../data_df/unsup.csv\")\n",
    "elapsed = time.time() - t\n",
    "print(elapsed)"
   ]
  },
  {
   "cell_type": "code",
   "execution_count": 15,
   "metadata": {},
   "outputs": [
    {
     "data": {
      "text/html": [
       "<div>\n",
       "<style scoped>\n",
       "    .dataframe tbody tr th:only-of-type {\n",
       "        vertical-align: middle;\n",
       "    }\n",
       "\n",
       "    .dataframe tbody tr th {\n",
       "        vertical-align: top;\n",
       "    }\n",
       "\n",
       "    .dataframe thead th {\n",
       "        text-align: right;\n",
       "    }\n",
       "</style>\n",
       "<table border=\"1\" class=\"dataframe\">\n",
       "  <thead>\n",
       "    <tr style=\"text-align: right;\">\n",
       "      <th></th>\n",
       "      <th>movieID</th>\n",
       "      <th>review</th>\n",
       "      <th>rate</th>\n",
       "    </tr>\n",
       "  </thead>\n",
       "  <tbody>\n",
       "    <tr>\n",
       "      <th>0</th>\n",
       "      <td>0</td>\n",
       "      <td>I admit, the great majority of films released ...</td>\n",
       "      <td>0</td>\n",
       "    </tr>\n",
       "    <tr>\n",
       "      <th>1</th>\n",
       "      <td>10000</td>\n",
       "      <td>Take a low budget, inexperienced actors doubli...</td>\n",
       "      <td>0</td>\n",
       "    </tr>\n",
       "    <tr>\n",
       "      <th>2</th>\n",
       "      <td>10001</td>\n",
       "      <td>Everybody has seen 'Back To The Future,' right...</td>\n",
       "      <td>0</td>\n",
       "    </tr>\n",
       "    <tr>\n",
       "      <th>3</th>\n",
       "      <td>10002</td>\n",
       "      <td>Doris Day was an icon of beauty in singing and...</td>\n",
       "      <td>0</td>\n",
       "    </tr>\n",
       "    <tr>\n",
       "      <th>4</th>\n",
       "      <td>10003</td>\n",
       "      <td>After a series of silly, fun-loving movies, 19...</td>\n",
       "      <td>0</td>\n",
       "    </tr>\n",
       "  </tbody>\n",
       "</table>\n",
       "</div>"
      ],
      "text/plain": [
       "  movieID                                             review rate\n",
       "0       0  I admit, the great majority of films released ...    0\n",
       "1   10000  Take a low budget, inexperienced actors doubli...    0\n",
       "2   10001  Everybody has seen 'Back To The Future,' right...    0\n",
       "3   10002  Doris Day was an icon of beauty in singing and...    0\n",
       "4   10003  After a series of silly, fun-loving movies, 19...    0"
      ]
     },
     "execution_count": 15,
     "metadata": {},
     "output_type": "execute_result"
    }
   ],
   "source": [
    "df.head()"
   ]
  },
  {
   "cell_type": "code",
   "execution_count": 33,
   "metadata": {},
   "outputs": [
    {
     "name": "stdout",
     "output_type": "stream",
     "text": [
      "298.7497184276581\n"
     ]
    }
   ],
   "source": [
    "dirt = ['neg','pos']\n",
    "path = \"../data/aclImdb/test/\"\n",
    "df = pd.DataFrame(columns=['movieID','review','rate','label'])\n",
    "\n",
    "t = time.time()\n",
    "for j in range(2):\n",
    "    files = os.listdir(path+dirt[j])\n",
    "    for index,file in enumerate(files):\n",
    "        files_txt  = path+dirt[j]+'/'+file\n",
    "        rate = file.split('_')[1].split('.')[0]\n",
    "        movieID = file.split('_')[0]\n",
    "        with open(files_txt,encoding='utf8') as f:\n",
    "            txt = f.read()\n",
    "        if(j==0):\n",
    "            df.loc[index] = [movieID,txt,rate,j]\n",
    "        else:\n",
    "            df.loc[index + 12500] = [movieID,txt,rate,j]\n",
    "df.to_csv(\"../data_df/pos_neg_test.csv\")\n",
    "elapsed = time.time() - t\n",
    "print(elapsed)"
   ]
  },
  {
   "cell_type": "code",
   "execution_count": 8,
   "metadata": {},
   "outputs": [
    {
     "data": {
      "text/html": [
       "<div>\n",
       "<style scoped>\n",
       "    .dataframe tbody tr th:only-of-type {\n",
       "        vertical-align: middle;\n",
       "    }\n",
       "\n",
       "    .dataframe tbody tr th {\n",
       "        vertical-align: top;\n",
       "    }\n",
       "\n",
       "    .dataframe thead th {\n",
       "        text-align: right;\n",
       "    }\n",
       "</style>\n",
       "<table border=\"1\" class=\"dataframe\">\n",
       "  <thead>\n",
       "    <tr style=\"text-align: right;\">\n",
       "      <th></th>\n",
       "      <th>Unnamed: 0</th>\n",
       "      <th>movieID</th>\n",
       "      <th>review</th>\n",
       "      <th>rate</th>\n",
       "      <th>label</th>\n",
       "    </tr>\n",
       "  </thead>\n",
       "  <tbody>\n",
       "    <tr>\n",
       "      <th>0</th>\n",
       "      <td>0</td>\n",
       "      <td>0</td>\n",
       "      <td>Once again Mr. Costner has dragged out a movie...</td>\n",
       "      <td>2</td>\n",
       "      <td>0</td>\n",
       "    </tr>\n",
       "    <tr>\n",
       "      <th>1</th>\n",
       "      <td>1</td>\n",
       "      <td>10000</td>\n",
       "      <td>This is an example of why the majority of acti...</td>\n",
       "      <td>4</td>\n",
       "      <td>0</td>\n",
       "    </tr>\n",
       "    <tr>\n",
       "      <th>2</th>\n",
       "      <td>2</td>\n",
       "      <td>10001</td>\n",
       "      <td>First of all I hate those moronic rappers, who...</td>\n",
       "      <td>1</td>\n",
       "      <td>0</td>\n",
       "    </tr>\n",
       "    <tr>\n",
       "      <th>3</th>\n",
       "      <td>3</td>\n",
       "      <td>10002</td>\n",
       "      <td>Not even the Beatles could write songs everyon...</td>\n",
       "      <td>3</td>\n",
       "      <td>0</td>\n",
       "    </tr>\n",
       "    <tr>\n",
       "      <th>4</th>\n",
       "      <td>4</td>\n",
       "      <td>10003</td>\n",
       "      <td>Brass pictures (movies is not a fitting word f...</td>\n",
       "      <td>3</td>\n",
       "      <td>0</td>\n",
       "    </tr>\n",
       "  </tbody>\n",
       "</table>\n",
       "</div>"
      ],
      "text/plain": [
       "   Unnamed: 0  movieID                                             review  \\\n",
       "0           0        0  Once again Mr. Costner has dragged out a movie...   \n",
       "1           1    10000  This is an example of why the majority of acti...   \n",
       "2           2    10001  First of all I hate those moronic rappers, who...   \n",
       "3           3    10002  Not even the Beatles could write songs everyon...   \n",
       "4           4    10003  Brass pictures (movies is not a fitting word f...   \n",
       "\n",
       "   rate  label  \n",
       "0     2      0  \n",
       "1     4      0  \n",
       "2     1      0  \n",
       "3     3      0  \n",
       "4     3      0  "
      ]
     },
     "execution_count": 8,
     "metadata": {},
     "output_type": "execute_result"
    }
   ],
   "source": [
    "df.head()"
   ]
  }
 ],
 "metadata": {
  "kernelspec": {
   "display_name": "Python 3",
   "language": "python",
   "name": "python3"
  },
  "language_info": {
   "codemirror_mode": {
    "name": "ipython",
    "version": 3
   },
   "file_extension": ".py",
   "mimetype": "text/x-python",
   "name": "python",
   "nbconvert_exporter": "python",
   "pygments_lexer": "ipython3",
   "version": "3.6.4"
  }
 },
 "nbformat": 4,
 "nbformat_minor": 2
}
